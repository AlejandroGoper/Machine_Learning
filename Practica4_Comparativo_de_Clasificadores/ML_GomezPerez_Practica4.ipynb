{
 "metadata": {
  "language_info": {
   "codemirror_mode": {
    "name": "ipython",
    "version": 3
   },
   "file_extension": ".py",
   "mimetype": "text/x-python",
   "name": "python",
   "nbconvert_exporter": "python",
   "pygments_lexer": "ipython3",
   "version": "3.8.5"
  },
  "orig_nbformat": 2,
  "kernelspec": {
   "name": "python385jvsc74a57bd08d5af786ff45d0b0a33f8d2f07da2f52583a9f20d04f38e5bd3f4a86fa7df438",
   "display_name": "Python 3.8.5 64-bit ('base': conda)"
  }
 },
 "nbformat": 4,
 "nbformat_minor": 2,
 "cells": [
  {
   "source": [
    "# Practica 4 -- Comparativa de clasificadores\n",
    "\n",
    "- Minima Distancia\n",
    "- K-Nearest Neighboors\n",
    "- SVC (Maquina de soporte vectorial)"
   ],
   "cell_type": "markdown",
   "metadata": {}
  },
  {
   "cell_type": "code",
   "execution_count": 1,
   "metadata": {},
   "outputs": [
    {
     "output_type": "stream",
     "name": "stdout",
     "text": [
      "\n    Codigo tomado de: https://scikit-learn.org/stable/auto_examples/classification/plot_classifier_comparison.html#sphx-glr-auto-examples-classification-plot-classifier-comparison-py\n\n    Autor: Alejandro Gómez.\n\n    Se modificara el código del enlace para poder realizar solamente las fronteras de\n    desición de tres clasificadores Minima distancia, K-nearest neighboors y SVC.  \n\n"
     ]
    }
   ],
   "source": [
    "import fronteras_de_decision"
   ]
  },
  {
   "cell_type": "code",
   "execution_count": 2,
   "metadata": {},
   "outputs": [],
   "source": [
    "# Para el manejo de archivos y cuestiones numéricas\n",
    "from numpy import genfromtxt,array"
   ]
  },
  {
   "source": [
    "### Importando datos\n",
    "\n",
    "Se arreglaron los primeros dos datasets ya que disponian de columnas extras que no son requeridas"
   ],
   "cell_type": "markdown",
   "metadata": {}
  },
  {
   "cell_type": "code",
   "execution_count": 3,
   "metadata": {},
   "outputs": [],
   "source": [
    "# Importamos los archivos .csv y arreglamos en la forma tradicional\n",
    "dataset1 = genfromtxt(\"Archivos/dataset_classifiers1.csv\",delimiter=',',skip_header=1)\n",
    "dataset2 = genfromtxt(\"Archivos/dataset_classifiers2.csv\",delimiter=',',skip_header=1)\n",
    "dataset3 = genfromtxt(\"Archivos/dataset_classifiers3.csv\",delimiter=',')\n",
    "#Eliminamos la primer y ultima columna del dataset para quitar los indices y las etiquetas\n",
    "X_1 = dataset1[:,1:-1] # Usamos slicing\n",
    "X_2 = dataset2[:,1:-1]\n",
    "X_3 = dataset3[:,:-1] # Aqui solo quitamos la ultima columna dado que no tiene la primera\n",
    "#Asignando sus respectivas etiquetas a cada dataset \n",
    "y_true_1 = dataset1[:,-1]\n",
    "y_true_2 = dataset2[:,-1]\n",
    "y_true_3 = dataset3[:,-1]"
   ]
  },
  {
   "source": [
    "### Importando modulo \n",
    "\n",
    "Para el clasificador por minima distancia"
   ],
   "cell_type": "markdown",
   "metadata": {}
  },
  {
   "source": [
    "from clasificador_minima_distancia import MinimaDistancia"
   ],
   "cell_type": "code",
   "metadata": {},
   "execution_count": 24,
   "outputs": []
  },
  {
   "source": [
    "### Importando modulos para el KNN \n",
    "\n",
    "Para el clasificador K-nearest neighboors"
   ],
   "cell_type": "markdown",
   "metadata": {}
  },
  {
   "cell_type": "code",
   "execution_count": 25,
   "metadata": {},
   "outputs": [],
   "source": [
    "from sklearn.neighbors import NearestNeighbors"
   ]
  },
  {
   "source": [
    "### Importando modulos para el SVC\n",
    "\n",
    "Para el clasificador por maquina de soporte vectorial "
   ],
   "cell_type": "markdown",
   "metadata": {}
  },
  {
   "cell_type": "code",
   "execution_count": 26,
   "metadata": {},
   "outputs": [],
   "source": [
    "from sklearn.svm import SVC"
   ]
  },
  {
   "source": [
    "# Realizando fronteras de desición"
   ],
   "cell_type": "markdown",
   "metadata": {}
  },
  {
   "cell_type": "code",
   "execution_count": null,
   "metadata": {},
   "outputs": [],
   "source": [
    "names = [\"Minima Distancia\",\"KNN\",\"SVC RBF\"]\n",
    "clasificadores = []"
   ]
  }
 ]
}