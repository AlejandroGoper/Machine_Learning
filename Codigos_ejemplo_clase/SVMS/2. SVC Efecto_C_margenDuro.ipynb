{
 "cells": [
  {
   "cell_type": "code",
   "execution_count": 3,
   "metadata": {
    "collapsed": false
   },
   "outputs": [
    {
     "output_type": "display_data",
     "data": {
      "text/plain": "interactive(children=(FloatSlider(value=0.01, description='myC', max=2.0, min=0.001, step=0.02), IntSlider(val…",
      "application/vnd.jupyter.widget-view+json": {
       "version_major": 2,
       "version_minor": 0,
       "model_id": "0f21a42811d048e5909d203d91e4fde7"
      }
     },
     "metadata": {}
    }
   ],
   "source": [
    "%matplotlib inline\n",
    "import numpy as np\n",
    "import matplotlib.pyplot as plt\n",
    "from sklearn.svm import SVC\n",
    "#from sklearn.datasets.samples_generator import make_blobs\n",
    "from padierna_modules.plots import plot_svc_decision_function\n",
    "from ipywidgets import interact\n",
    "\n",
    "def mySVM_plot(myC=0.01, rs=0):\n",
    "    #X,y = make_blobs(n_samples = 20, centers=2, random_state=rs, cluster_std=0.60)\n",
    "    X = np.array([[-4,-2],[-4,6],[-2,2],[3,-1]])\n",
    "    y = np.array([1,1,1,-1])\n",
    "    p=plt.scatter(X[:,0], X[:,1], c=y, s=50, cmap='winter')\n",
    "    \n",
    "    model = SVC(kernel='linear', C=myC)\n",
    "    model.fit(X,y)\n",
    "\n",
    "    plot_svc_decision_function(model,X,plot_support=True)\n",
    "    \n",
    "interact(mySVM_plot, myC=(0.001,2,0.02), rs=(0,5,1));"
   ]
  },
  {
   "cell_type": "code",
   "execution_count": null,
   "metadata": {
    "collapsed": true
   },
   "outputs": [],
   "source": []
  }
 ],
 "metadata": {
  "kernelspec": {
   "name": "python385jvsc74a57bd08d5af786ff45d0b0a33f8d2f07da2f52583a9f20d04f38e5bd3f4a86fa7df438",
   "display_name": "Python 3.8.5 64-bit ('base': conda)"
  },
  "language_info": {
   "codemirror_mode": {
    "name": "ipython",
    "version": 3
   },
   "file_extension": ".py",
   "mimetype": "text/x-python",
   "name": "python",
   "nbconvert_exporter": "python",
   "pygments_lexer": "ipython3",
   "version": "3.8.5"
  },
  "widgets": {
   "state": {
    "405993ef6b2b48599e6374bd64ce03d2": {
     "views": [
      {
       "cell_index": 0
      }
     ]
    }
   },
   "version": "1.2.0"
  }
 },
 "nbformat": 4,
 "nbformat_minor": 2
}