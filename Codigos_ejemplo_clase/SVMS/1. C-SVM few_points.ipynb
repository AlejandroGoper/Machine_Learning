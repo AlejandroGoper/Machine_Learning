{
 "cells": [
  {
   "cell_type": "code",
   "execution_count": 3,
   "metadata": {},
   "outputs": [
    {
     "name": "stdout",
     "output_type": "stream",
     "text": [
      "Función de Decisión:\t[-3.88486893  7.15100813 -0.99967025 -3.79899943  0.99983512  3.79916431\n",
      " -1.00016488]\n",
      "Predicción:\t\t[1 2 1 1 2 2 1]\n",
      "Vectores Soporte:\t3\n",
      "Multiplicadores:\t[[ 0.32035055  0.34106569  0.66141624]]\n"
     ]
    },
    {
     "data": {
      "image/png": "[encoded data removed]",
      "text/plain": [
       "<matplotlib.figure.Figure at 0x96ac3c8>"
      ]
     },
     "metadata": {},
     "output_type": "display_data"
    }
   ],
   "source": [
    "%matplotlib inline\n",
    "import numpy as np\n",
    "import matplotlib.pyplot as plt\n",
    "from sklearn.svm import SVC\n",
    "from ipywidgets import interact\n",
    "\n",
    "def mySVC(myKernel='linear', myC=.01):       \n",
    "    #X = np.array([[0, 0], [1, 1], [0, 1], [1, 0]])\n",
    "    #y = np.array([1,1,-1,-1])\n",
    "    #y = np.array([1, 2])\n",
    "    X = np.array([[-2, 2], [3, -1], [-1, -1], [-2, -1]\n",
    "                  , [1, 1], [2, 1], [-1.5,.75]])\n",
    "    y = np.array([1,2,1, 1, 2, 2, 1])\n",
    "    \n",
    "    clf = SVC(kernel=myKernel,C=myC)    \n",
    "    clf.fit(X, y) \n",
    "    \n",
    "    print(\"Función de Decisión:\\t\"+str(clf.decision_function(X)))        \n",
    "    print(\"Predicción:\\t\\t\"+str(clf.predict(X)))    \n",
    "    print(\"Vectores Soporte:\\t\"+str(len(clf.support_vectors_)))            \n",
    "    print(\"Multiplicadores:\\t\"+str(np.abs(clf.dual_coef_))) #svm.dual_coef_[i] = labels[i] * alphas[i]\n",
    "    \n",
    "    plt.scatter(X[:,0], X[:,1] , c=y, s=150, edgecolors='none',\n",
    "                cmap='winter')\n",
    "    \n",
    "    plt.scatter(clf.support_vectors_[:,0], clf.support_vectors_[:,1] ,\n",
    "                lw=2, s=200, edgecolors='k',facecolors='none')\n",
    "    \n",
    "    # CREANDO GRID PARA EVALUAR EL MODELO\n",
    "    ax = plt.gca()\n",
    "    \n",
    "    xlim = ax.get_xlim()\n",
    "    ylim = ax.get_ylim()\n",
    "    \n",
    "    x = np.linspace(xlim[0], xlim[1], 30)\n",
    "    z = np.linspace(ylim[0], ylim[1], 30)\n",
    "    Y, X = np.meshgrid(z,x)\n",
    "    \n",
    "    xz = np.vstack([X.ravel(), Y.ravel()]).T\n",
    "    #P = np.random.randn(900).reshape(X.shape)\n",
    "    P =clf.decision_function(xz).reshape(X.shape)\n",
    "    #P =clf.predict(xz).reshape(X.shape)\n",
    "    \n",
    "    #ax.contourf(X, Y, P,alpha=0.2)    \n",
    "    ax.contour(X, Y, P, colors='k', levels = [-.7, 0, 1], alpha=0.5,\n",
    "               linestyles = ['--', '-', '--'])\n",
    "    \n",
    "interact(mySVC,myKernel=['linear', 'rbf', 'poly'],myC=(0.01,3,0.1),\n",
    "         addPoint=[0,0])"
   ]
  },
  {
   "cell_type": "code",
   "execution_count": null,
   "metadata": {
    "collapsed": true
   },
   "outputs": [],
   "source": []
  }
 ],
 "metadata": {
  "kernelspec": {
   "display_name": "Python 3",
   "language": "python",
   "name": "python3"
  },
  "language_info": {
   "codemirror_mode": {
    "name": "ipython",
    "version": 3
   },
   "file_extension": ".py",
   "mimetype": "text/x-python",
   "name": "python",
   "nbconvert_exporter": "python",
   "pygments_lexer": "ipython3",
   "version": "3.7.3"
  },
  "widgets": {
   "state": {
    "abb7b800a7eb4959a4f6886d420f0a44": {
     "views": [
      {
       "cell_index": 0
      }
     ]
    }
   },
   "version": "1.2.0"
  }
 },
 "nbformat": 4,
 "nbformat_minor": 2
}
